{
  "nbformat": 4,
  "nbformat_minor": 0,
  "metadata": {
    "colab": {
      "name": "Neuralnet.ipynb",
      "provenance": [],
      "include_colab_link": true
    },
    "kernelspec": {
      "name": "python3",
      "display_name": "Python 3"
    }
  },
  "cells": [
    {
      "cell_type": "markdown",
      "metadata": {
        "id": "view-in-github",
        "colab_type": "text"
      },
      "source": [
        "<a href=\"https://colab.research.google.com/github/VishnuBhaarath/Handwritten-digits-neural-net-classification/blob/master/Neuralnet.ipynb\" target=\"_parent\"><img src=\"https://colab.research.google.com/assets/colab-badge.svg\" alt=\"Open In Colab\"/></a>"
      ]
    },
    {
      "cell_type": "code",
      "metadata": {
        "id": "YoEiiISropbn",
        "colab_type": "code",
        "colab": {}
      },
      "source": [
        "import pandas as pd\n",
        "import pandas as pd  \n",
        "import numpy as np  \n",
        "import matplotlib.pyplot as plt  \n",
        "import seaborn as seabornInstance \n",
        "from sklearn import metrics\n",
        "from scipy.io import loadmat"
      ],
      "execution_count": 0,
      "outputs": []
    },
    {
      "cell_type": "code",
      "metadata": {
        "id": "KFBwf-FmpmlB",
        "colab_type": "code",
        "colab": {}
      },
      "source": [
        "data = loadmat('ex3data1.mat')"
      ],
      "execution_count": 0,
      "outputs": []
    },
    {
      "cell_type": "code",
      "metadata": {
        "id": "SARCbWGbqh62",
        "colab_type": "code",
        "colab": {}
      },
      "source": [
        "X=data['X']"
      ],
      "execution_count": 0,
      "outputs": []
    },
    {
      "cell_type": "code",
      "metadata": {
        "id": "zBdFI9SyfHn6",
        "colab_type": "code",
        "colab": {
          "base_uri": "https://localhost:8080/",
          "height": 134
        },
        "outputId": "285dac45-c958-4ed6-b9da-550f1243e07e"
      },
      "source": [
        "X"
      ],
      "execution_count": 7,
      "outputs": [
        {
          "output_type": "execute_result",
          "data": {
            "text/plain": [
              "array([[0., 0., 0., ..., 0., 0., 0.],\n",
              "       [0., 0., 0., ..., 0., 0., 0.],\n",
              "       [0., 0., 0., ..., 0., 0., 0.],\n",
              "       ...,\n",
              "       [0., 0., 0., ..., 0., 0., 0.],\n",
              "       [0., 0., 0., ..., 0., 0., 0.],\n",
              "       [0., 0., 0., ..., 0., 0., 0.]])"
            ]
          },
          "metadata": {
            "tags": []
          },
          "execution_count": 7
        }
      ]
    },
    {
      "cell_type": "code",
      "metadata": {
        "id": "z0zpqUGtsDOr",
        "colab_type": "code",
        "outputId": "2d06c5b0-b650-4b57-9d42-a7949ffaee0b",
        "colab": {
          "base_uri": "https://localhost:8080/",
          "height": 34
        }
      },
      "source": [
        "X.shape"
      ],
      "execution_count": 8,
      "outputs": [
        {
          "output_type": "execute_result",
          "data": {
            "text/plain": [
              "(5000, 400)"
            ]
          },
          "metadata": {
            "tags": []
          },
          "execution_count": 8
        }
      ]
    },
    {
      "cell_type": "code",
      "metadata": {
        "id": "uOubFXnssO_F",
        "colab_type": "code",
        "colab": {}
      },
      "source": [
        "Y=data['y']"
      ],
      "execution_count": 0,
      "outputs": []
    },
    {
      "cell_type": "code",
      "metadata": {
        "id": "AJstZH9tsV9E",
        "colab_type": "code",
        "outputId": "a7c65ead-9069-4316-bc7d-a65b4b9d77c4",
        "colab": {
          "base_uri": "https://localhost:8080/",
          "height": 134
        }
      },
      "source": [
        "Y #The output layer representing numbers for each examples, there are 5000 rows, each representing a number from 0 to 10"
      ],
      "execution_count": 10,
      "outputs": [
        {
          "output_type": "execute_result",
          "data": {
            "text/plain": [
              "array([[10],\n",
              "       [10],\n",
              "       [10],\n",
              "       ...,\n",
              "       [ 9],\n",
              "       [ 9],\n",
              "       [ 9]], dtype=uint8)"
            ]
          },
          "metadata": {
            "tags": []
          },
          "execution_count": 10
        }
      ]
    },
    {
      "cell_type": "code",
      "metadata": {
        "id": "gSUdkHCmsdP7",
        "colab_type": "code",
        "outputId": "efa2ec5c-700a-4e4f-ed22-77eba2db8394",
        "colab": {
          "base_uri": "https://localhost:8080/",
          "height": 34
        }
      },
      "source": [
        "Y.shape"
      ],
      "execution_count": 11,
      "outputs": [
        {
          "output_type": "execute_result",
          "data": {
            "text/plain": [
              "(5000, 1)"
            ]
          },
          "metadata": {
            "tags": []
          },
          "execution_count": 11
        }
      ]
    },
    {
      "cell_type": "code",
      "metadata": {
        "id": "SOdILU-HshWm",
        "colab_type": "code",
        "colab": {}
      },
      "source": [
        "theta= loadmat('ex3weights.mat')"
      ],
      "execution_count": 0,
      "outputs": []
    },
    {
      "cell_type": "code",
      "metadata": {
        "id": "T1su1Gx5s_lp",
        "colab_type": "code",
        "colab": {}
      },
      "source": [
        "Theta1=theta['Theta1'] #Retreving the stored values of Theta1 from ex3weights.mat\n",
        "Theta2=theta['Theta2'] #Retreving the stored values of Theta2 from ex3weights.mat"
      ],
      "execution_count": 0,
      "outputs": []
    },
    {
      "cell_type": "code",
      "metadata": {
        "id": "gwxbToqMtIf0",
        "colab_type": "code",
        "outputId": "9d53960a-3e64-4a7b-db46-d026d2e730a7",
        "colab": {
          "base_uri": "https://localhost:8080/",
          "height": 235
        }
      },
      "source": [
        "Theta1  "
      ],
      "execution_count": 17,
      "outputs": [
        {
          "output_type": "execute_result",
          "data": {
            "text/plain": [
              "array([[-2.25623899e-02, -1.05624163e-08,  2.19414684e-09, ...,\n",
              "        -1.30529929e-05, -5.04175101e-06,  2.80464449e-09],\n",
              "       [-9.83811294e-02,  7.66168682e-09, -9.75873689e-09, ...,\n",
              "        -5.60134007e-05,  2.00940969e-07,  3.54422854e-09],\n",
              "       [ 1.16156052e-01, -8.77654466e-09,  8.16037764e-09, ...,\n",
              "        -1.20951657e-04, -2.33669661e-06, -7.50668099e-09],\n",
              "       ...,\n",
              "       [-1.83220638e-01, -8.89272060e-09, -9.81968100e-09, ...,\n",
              "         2.35311186e-05, -3.25484493e-06,  9.02499060e-09],\n",
              "       [-7.02096331e-01,  3.05178374e-10,  2.56061008e-09, ...,\n",
              "        -8.61759744e-04,  9.43449909e-05,  3.83761998e-09],\n",
              "       [-3.50933229e-01,  8.85876862e-09, -6.57515140e-10, ...,\n",
              "        -1.80365926e-06, -8.14464807e-06,  8.79454531e-09]])"
            ]
          },
          "metadata": {
            "tags": []
          },
          "execution_count": 17
        }
      ]
    },
    {
      "cell_type": "code",
      "metadata": {
        "id": "G5zr8kQztScX",
        "colab_type": "code",
        "outputId": "f2262969-c154-460c-f456-ca07b4a0e909",
        "colab": {
          "base_uri": "https://localhost:8080/",
          "height": 1000
        }
      },
      "source": [
        "Theta2"
      ],
      "execution_count": 18,
      "outputs": [
        {
          "output_type": "execute_result",
          "data": {
            "text/plain": [
              "array([[-0.76100352, -1.21244498, -0.10187131, -2.36850085, -1.05778129,\n",
              "        -2.20823629,  0.56383834,  1.21105294,  2.21030997,  0.44456156,\n",
              "        -1.18244872,  1.04289112, -1.60558756,  1.30419943,  1.37175046,\n",
              "         1.74825095, -0.23365648, -1.52014483,  1.15324176,  0.10368082,\n",
              "        -0.37207719, -0.61530019, -0.1256836 , -2.27193038, -0.71836208,\n",
              "        -1.29690315],\n",
              "       [-0.61785176,  0.61559207, -1.26550639,  1.85745418, -0.91853319,\n",
              "        -0.05502589, -0.38589806,  1.29520853, -1.56843297, -0.97026419,\n",
              "        -2.18334895, -2.85033578, -2.07733086,  1.63163164,  0.3490229 ,\n",
              "         1.82789117, -2.44174379, -0.8563034 , -0.2982564 , -2.07947873,\n",
              "        -1.2933238 ,  0.89982032,  0.28306578,  2.31180525, -2.46444086,\n",
              "         1.45656548],\n",
              "       [-0.68934072, -1.94538151,  2.01360618, -3.12316188, -0.2361763 ,\n",
              "         1.38680947,  0.90982429, -1.54774416, -0.79830896, -0.65599834,\n",
              "         0.7353833 , -2.58593294,  0.47210839,  0.55349499,  2.51255453,\n",
              "        -2.4167454 , -1.63898627,  1.2027302 , -1.20245851, -1.83445959,\n",
              "        -1.88013027, -0.34056098,  0.23692483, -1.06137919,  1.02759232,\n",
              "        -0.47690832],\n",
              "       [-0.67832479,  0.46299226,  0.58492321, -0.1650184 ,  1.93264192,\n",
              "        -0.22965765, -1.84731492,  0.49011768,  1.07146054, -3.31905643,\n",
              "         1.54113507,  0.37371947, -0.86484681, -2.58273522,  0.97062447,\n",
              "        -0.51021867, -0.68427897, -1.64713607,  0.21153145, -0.27422442,\n",
              "         1.72599755,  1.32418658, -2.63984479, -0.08055871, -2.03510803,\n",
              "        -1.46123776],\n",
              "       [-0.59664339, -2.04481799,  2.05698407,  1.95100909,  0.17637699,\n",
              "        -2.16141218, -0.40394736,  1.80157532, -1.56278739, -0.25253004,\n",
              "         0.23586497,  0.71656699,  1.07689092, -0.35457279, -1.67743058,\n",
              "        -0.12939255, -0.67488849,  1.14066535,  1.32431237,  3.21158484,\n",
              "        -2.15888898, -2.60164082, -3.2226466 , -1.89612906, -0.87488068,\n",
              "         2.51038628],\n",
              "       [-0.87794907,  0.4344112 , -0.93161049,  0.18390778, -0.36078216,\n",
              "         0.61958137,  0.38624948, -2.65150343,  2.29710773, -2.08818098,\n",
              "        -1.86382323,  1.06057836,  0.77562146,  2.1346861 , -1.14973702,\n",
              "        -0.52081426,  0.99743429, -1.48309353, -2.3139424 ,  0.29517333,\n",
              "        -0.38704879, -2.20607697,  0.30702191, -1.17646114, -1.63462966,\n",
              "        -0.82467661],\n",
              "       [-0.52746527,  1.21564288, -1.50095981, -2.03195359, -1.52366734,\n",
              "        -2.43732079, -2.37570311, -1.39987277, -0.88735315, -0.63278873,\n",
              "         1.50450176, -1.580763  ,  0.58599217, -0.77540416,  0.94257331,\n",
              "         2.10919653,  0.54479132,  0.43773612, -1.28024228, -0.04360994,\n",
              "         1.4774997 , -1.13276949, -0.72846904,  0.04734716,  1.6574566 ,\n",
              "         1.68540944],\n",
              "       [-0.7490154 , -0.72249056, -3.15228173,  0.36577778,  0.19811362,\n",
              "        -0.73059946,  1.65263918, -2.300357  , -1.87468162,  0.98095387,\n",
              "        -1.58825159,  1.35434142,  2.17895331, -1.99239762, -2.00371362,\n",
              "        -0.388613  , -2.33992976, -2.91719062,  0.99398645, -2.70476768,\n",
              "        -1.27139772,  1.86091461, -1.20519404, -0.38014194,  0.7087181 ,\n",
              "        -2.11014003],\n",
              "       [-0.6665468 ,  0.53601845,  1.30307573, -1.03372714, -4.03084753,\n",
              "         0.58173469, -2.65717902,  0.80379994, -1.09241928,  2.49910058,\n",
              "         0.362008  ,  0.66195337, -0.92160534, -0.83123666, -2.00200952,\n",
              "        -2.94897501,  0.64564202, -1.10114694,  0.74510309,  0.58506717,\n",
              "        -1.99545251,  0.62591105,  1.80596103, -0.22309315, -1.40442136,\n",
              "        -2.1319153 ],\n",
              "       [-0.46089119, -1.43944954, -1.21809509,  0.71093011,  0.45216919,\n",
              "        -0.35953381,  0.62284954, -0.67005297, -0.7069138 ,  0.06311351,\n",
              "        -1.23199074, -1.74645233, -2.71960897, -2.21437178, -1.69307505,\n",
              "        -0.90927394,  0.87852311,  1.18664814, -1.87041262,  0.39796295,\n",
              "         1.72113872, -1.36934055,  0.8580668 , -0.24779579,  1.28009118,\n",
              "        -1.32752042]])"
            ]
          },
          "metadata": {
            "tags": []
          },
          "execution_count": 18
        }
      ]
    },
    {
      "cell_type": "code",
      "metadata": {
        "id": "DE1wbC9Bv_xi",
        "colab_type": "code",
        "colab": {}
      },
      "source": [
        "t=np.ones([5000, 1], dtype = int) "
      ],
      "execution_count": 0,
      "outputs": []
    },
    {
      "cell_type": "code",
      "metadata": {
        "id": "312f2MVn5RX8",
        "colab_type": "code",
        "outputId": "0dd15045-2b68-4796-fe49-83e6391c5513",
        "colab": {
          "base_uri": "https://localhost:8080/",
          "height": 134
        }
      },
      "source": [
        "inputlayer = np.column_stack((t, X))   #Adding biasing to X\n",
        "inputlayer"
      ],
      "execution_count": 34,
      "outputs": [
        {
          "output_type": "execute_result",
          "data": {
            "text/plain": [
              "array([[1., 0., 0., ..., 0., 0., 0.],\n",
              "       [1., 0., 0., ..., 0., 0., 0.],\n",
              "       [1., 0., 0., ..., 0., 0., 0.],\n",
              "       ...,\n",
              "       [1., 0., 0., ..., 0., 0., 0.],\n",
              "       [1., 0., 0., ..., 0., 0., 0.],\n",
              "       [1., 0., 0., ..., 0., 0., 0.]])"
            ]
          },
          "metadata": {
            "tags": []
          },
          "execution_count": 34
        }
      ]
    },
    {
      "cell_type": "code",
      "metadata": {
        "id": "Rvk9rFgxbtYU",
        "colab_type": "code",
        "outputId": "556bb044-468a-483f-c08a-783c8c8e93f8",
        "colab": {
          "base_uri": "https://localhost:8080/",
          "height": 34
        }
      },
      "source": [
        "inputlayer.shape"
      ],
      "execution_count": 22,
      "outputs": [
        {
          "output_type": "execute_result",
          "data": {
            "text/plain": [
              "(5000, 401)"
            ]
          },
          "metadata": {
            "tags": []
          },
          "execution_count": 22
        }
      ]
    },
    {
      "cell_type": "code",
      "metadata": {
        "id": "AJ-2MCdAb5yF",
        "colab_type": "code",
        "outputId": "0ad39f5b-f23b-4c49-d8ff-fcdd83d99385",
        "colab": {
          "base_uri": "https://localhost:8080/",
          "height": 34
        }
      },
      "source": [
        "Theta1.shape"
      ],
      "execution_count": 23,
      "outputs": [
        {
          "output_type": "execute_result",
          "data": {
            "text/plain": [
              "(25, 401)"
            ]
          },
          "metadata": {
            "tags": []
          },
          "execution_count": 23
        }
      ]
    },
    {
      "cell_type": "code",
      "metadata": {
        "id": "xY08RByK7fh8",
        "colab_type": "code",
        "colab": {}
      },
      "source": [
        "z1=np.dot(Theta1, np.transpose(inputlayer))"
      ],
      "execution_count": 0,
      "outputs": []
    },
    {
      "cell_type": "code",
      "metadata": {
        "id": "C-6JuAN689kH",
        "colab_type": "code",
        "outputId": "855944ad-c7fe-4207-e40c-c61f167e06ff",
        "colab": {
          "base_uri": "https://localhost:8080/",
          "height": 34
        }
      },
      "source": [
        "z1.shape"
      ],
      "execution_count": 25,
      "outputs": [
        {
          "output_type": "execute_result",
          "data": {
            "text/plain": [
              "(25, 5000)"
            ]
          },
          "metadata": {
            "tags": []
          },
          "execution_count": 25
        }
      ]
    },
    {
      "cell_type": "code",
      "metadata": {
        "id": "_A2tq_N48_t0",
        "colab_type": "code",
        "colab": {}
      },
      "source": [
        "h1=1 / (1 + np.exp(-z1)) #Finding the sigmoid. "
      ],
      "execution_count": 0,
      "outputs": []
    },
    {
      "cell_type": "code",
      "metadata": {
        "id": "mKPxsNOG9MG2",
        "colab_type": "code",
        "outputId": "a4296b8f-4d6b-4807-e3ac-0285ca2618a9",
        "colab": {
          "base_uri": "https://localhost:8080/",
          "height": 235
        }
      },
      "source": [
        "h1"
      ],
      "execution_count": 28,
      "outputs": [
        {
          "output_type": "execute_result",
          "data": {
            "text/plain": [
              "array([[5.03618685e-02, 8.05782163e-03, 1.41949887e-02, ...,\n",
              "        2.96781175e-01, 8.51205095e-01, 9.72262381e-01],\n",
              "       [7.93957162e-02, 5.10486829e-02, 2.44354705e-02, ...,\n",
              "        7.32901746e-01, 3.58434539e-01, 5.48598771e-06],\n",
              "       [9.93001966e-01, 9.33671593e-01, 9.97518887e-01, ...,\n",
              "        1.57724076e-01, 1.83675450e-01, 9.93379633e-01],\n",
              "       ...,\n",
              "       [9.72517962e-01, 8.91385592e-01, 8.24334311e-01, ...,\n",
              "        8.60396828e-01, 9.84854863e-01, 9.99235749e-01],\n",
              "       [9.43421623e-01, 9.90982126e-01, 9.56466386e-01, ...,\n",
              "        3.98474223e-02, 2.75399966e-01, 8.96120297e-01],\n",
              "       [1.07213787e-01, 5.94701645e-02, 8.86760824e-02, ...,\n",
              "        1.51177198e-01, 4.35605471e-02, 5.00966928e-02]])"
            ]
          },
          "metadata": {
            "tags": []
          },
          "execution_count": 28
        }
      ]
    },
    {
      "cell_type": "code",
      "metadata": {
        "id": "O95goyQo9Zr2",
        "colab_type": "code",
        "colab": {}
      },
      "source": [
        "hiddenlayer = np.column_stack((t, np.transpose(h1))) #Adding biasing to the hidden layer."
      ],
      "execution_count": 0,
      "outputs": []
    },
    {
      "cell_type": "code",
      "metadata": {
        "id": "0Gbrbe1_-1Lt",
        "colab_type": "code",
        "outputId": "f502295b-7b65-4906-f95f-654fc3658c13",
        "colab": {
          "base_uri": "https://localhost:8080/",
          "height": 34
        }
      },
      "source": [
        "hiddenlayer.shape"
      ],
      "execution_count": 30,
      "outputs": [
        {
          "output_type": "execute_result",
          "data": {
            "text/plain": [
              "(5000, 26)"
            ]
          },
          "metadata": {
            "tags": []
          },
          "execution_count": 30
        }
      ]
    },
    {
      "cell_type": "code",
      "metadata": {
        "id": "NhgCrOsK_BN6",
        "colab_type": "code",
        "colab": {}
      },
      "source": [
        "z2=np.dot(Theta2,np.transpose(hiddenlayer))"
      ],
      "execution_count": 0,
      "outputs": []
    },
    {
      "cell_type": "code",
      "metadata": {
        "id": "hFe6ST3C_rRn",
        "colab_type": "code",
        "colab": {}
      },
      "source": [
        "h2=1 / (1 + np.exp(-z2))"
      ],
      "execution_count": 0,
      "outputs": []
    },
    {
      "cell_type": "code",
      "metadata": {
        "id": "JCUCsuPL_uxE",
        "colab_type": "code",
        "outputId": "0572e46f-7cb6-4ac0-ba39-ec52849b5a19",
        "colab": {
          "base_uri": "https://localhost:8080/",
          "height": 235
        }
      },
      "source": [
        "h2 # The final output layer"
      ],
      "execution_count": 35,
      "outputs": [
        {
          "output_type": "execute_result",
          "data": {
            "text/plain": [
              "array([[1.12661530e-04, 4.79026796e-04, 8.85702310e-05, ...,\n",
              "        5.17641791e-02, 8.30631310e-04, 4.81465717e-05],\n",
              "       [1.74127856e-03, 2.41495958e-03, 3.24266731e-03, ...,\n",
              "        3.81715020e-03, 6.22003774e-04, 4.58821829e-04],\n",
              "       [2.52696959e-03, 3.44755685e-03, 2.55419797e-02, ...,\n",
              "        2.96297510e-02, 3.14518512e-04, 2.15146201e-05],\n",
              "       ...,\n",
              "       [4.01468105e-04, 2.39107046e-03, 6.22892325e-02, ...,\n",
              "        2.15667361e-03, 1.19366192e-02, 5.73434571e-03],\n",
              "       [6.48072305e-03, 1.97025086e-03, 5.49803551e-03, ...,\n",
              "        6.49826950e-01, 9.71410499e-01, 6.96288990e-01],\n",
              "       [9.95734012e-01, 9.95696931e-01, 9.28008397e-01, ...,\n",
              "        2.42384687e-05, 2.06173648e-04, 8.18576980e-02]])"
            ]
          },
          "metadata": {
            "tags": []
          },
          "execution_count": 35
        }
      ]
    },
    {
      "cell_type": "code",
      "metadata": {
        "id": "x_qUzxrTiGgA",
        "colab_type": "code",
        "colab": {
          "base_uri": "https://localhost:8080/",
          "height": 34
        },
        "outputId": "f50a385d-7925-4710-e64c-5404ef0938e5"
      },
      "source": [
        "h2.shape"
      ],
      "execution_count": 36,
      "outputs": [
        {
          "output_type": "execute_result",
          "data": {
            "text/plain": [
              "(10, 5000)"
            ]
          },
          "metadata": {
            "tags": []
          },
          "execution_count": 36
        }
      ]
    }
  ]
}